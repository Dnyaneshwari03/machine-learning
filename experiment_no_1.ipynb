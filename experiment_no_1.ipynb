{
  "nbformat": 4,
  "nbformat_minor": 0,
  "metadata": {
    "colab": {
      "provenance": [],
      "authorship_tag": "ABX9TyNEZqlErZqPeCcvWkixb5y6",
      "include_colab_link": true
    },
    "kernelspec": {
      "name": "python3",
      "display_name": "Python 3"
    },
    "language_info": {
      "name": "python"
    }
  },
  "cells": [
    {
      "cell_type": "markdown",
      "metadata": {
        "id": "view-in-github",
        "colab_type": "text"
      },
      "source": [
        "<a href=\"https://colab.research.google.com/github/Dnyaneshwari03/machine-learning/blob/main/experiment_no_1.ipynb\" target=\"_parent\"><img src=\"https://colab.research.google.com/assets/colab-badge.svg\" alt=\"Open In Colab\"/></a>"
      ]
    },
    {
      "cell_type": "code",
      "execution_count": 2,
      "metadata": {
        "colab": {
          "base_uri": "https://localhost:8080/"
        },
        "id": "nlp3E_AfXBbn",
        "outputId": "1479abe5-7f13-4aa0-ae8f-08ccf04d7231"
      },
      "outputs": [
        {
          "output_type": "stream",
          "name": "stdout",
          "text": [
            "enter the radious of circl:2\n",
            "12.56\n"
          ]
        }
      ],
      "source": [
        "r=int(input(\"enter the radious of circl:\"))\n",
        "area=3.14*r**2\n",
        "print(area)\n",
        "\n"
      ]
    },
    {
      "cell_type": "code",
      "source": [
        "#palimdrom\n",
        "s=input(\"enter the string:\")\n",
        "a=s[::-1]\n",
        "if(a==s):\n",
        "  print(\"given string is palimdrom\")\n",
        "else:\n",
        "  print(\"given string is not plimdrom\")"
      ],
      "metadata": {
        "colab": {
          "base_uri": "https://localhost:8080/"
        },
        "id": "FvgSqsyPdowI",
        "outputId": "9b5e295e-7b01-4200-99d6-bba8363f2c0f"
      },
      "execution_count": 4,
      "outputs": [
        {
          "output_type": "stream",
          "name": "stdout",
          "text": [
            "enter the string:aba\n",
            "given string is palimdrom\n"
          ]
        }
      ]
    },
    {
      "cell_type": "code",
      "source": [
        "a=int(input(\"enter the number:\"))\n",
        "for i in range(1,a) :\n",
        "  a=a*i\n",
        "print(a)"
      ],
      "metadata": {
        "colab": {
          "base_uri": "https://localhost:8080/"
        },
        "id": "TmrD63AKfC40",
        "outputId": "9cc01d6b-6a4d-4865-c9b0-796c1fe5bf3e"
      },
      "execution_count": 8,
      "outputs": [
        {
          "output_type": "stream",
          "name": "stdout",
          "text": [
            "enter the number:5\n",
            "120\n"
          ]
        }
      ]
    },
    {
      "cell_type": "code",
      "source": [
        "a=int(input(\"enter the number:\"))"
      ],
      "metadata": {
        "id": "LxLvoSInhPZs"
      },
      "execution_count": null,
      "outputs": []
    }
  ]
}